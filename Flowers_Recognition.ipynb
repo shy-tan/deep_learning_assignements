{
 "cells": [
  {
   "cell_type": "code",
   "execution_count": 1,
   "metadata": {},
   "outputs": [
    {
     "name": "stdout",
     "output_type": "stream",
     "text": [
      "INFO:tensorflow:Enabling eager execution\n",
      "INFO:tensorflow:Enabling v2 tensorshape\n",
      "INFO:tensorflow:Enabling resource variables\n",
      "INFO:tensorflow:Enabling tensor equality\n",
      "INFO:tensorflow:Enabling control flow v2\n"
     ]
    }
   ],
   "source": [
    "import pandas as pd\n",
    "import numpy as np\n",
    "from matplotlib import pyplot as plt\n",
    "import seaborn as sns\n",
    "import PIL\n",
    "import tensorflow as tf\n",
    "import os\n",
    "import cv2\n",
    "from sklearn.model_selection import train_test_split"
   ]
  },
  {
   "cell_type": "markdown",
   "metadata": {},
   "source": [
    "# Load Data"
   ]
  },
  {
   "cell_type": "code",
   "execution_count": 2,
   "metadata": {},
   "outputs": [],
   "source": [
    "path = './flowers'"
   ]
  },
  {
   "cell_type": "code",
   "execution_count": 3,
   "metadata": {},
   "outputs": [
    {
     "name": "stdout",
     "output_type": "stream",
     "text": [
      "daisy\n",
      "dandelion\n",
      "rose\n",
      "sunflower\n",
      "tulip\n"
     ]
    }
   ],
   "source": [
    "for file in os.listdir(path):\n",
    "    print(file)"
   ]
  },
  {
   "cell_type": "code",
   "execution_count": 4,
   "metadata": {},
   "outputs": [],
   "source": [
    "data = []\n",
    "targets = [] \n",
    "\n",
    "\n",
    "size = (28, 28)\n",
    "\n",
    "for folder in os.listdir(path):\n",
    "  for file in os.listdir(os.path.join(path, folder)):\n",
    "    if file.endswith(\"jpg\"):\n",
    "      targets.append(folder)\n",
    "\n",
    "      \n",
    "      img = cv2.imread(os.path.join(path, folder, file))\n",
    "\n",
    "      \n",
    "      img = cv2.resize(img, size)\n",
    "\n",
    "      \n",
    "      img = tf.image.rgb_to_grayscale(img)\n",
    "\n",
    "      data.append(img)\n",
    "    else:\n",
    "      continue"
   ]
  },
  {
   "cell_type": "markdown",
   "metadata": {},
   "source": [
    "# Encode Labels"
   ]
  },
  {
   "cell_type": "code",
   "execution_count": 5,
   "metadata": {},
   "outputs": [],
   "source": [
    "data = np.array(data)\n",
    "\n",
    "data = np.squeeze(data)"
   ]
  },
  {
   "cell_type": "code",
   "execution_count": 6,
   "metadata": {},
   "outputs": [],
   "source": [
    "data = np.array(data).astype(\"float32\") / 255"
   ]
  },
  {
   "cell_type": "code",
   "execution_count": 7,
   "metadata": {},
   "outputs": [],
   "source": [
    "targets = pd.get_dummies(targets)"
   ]
  },
  {
   "cell_type": "code",
   "execution_count": 8,
   "metadata": {},
   "outputs": [
    {
     "data": {
      "text/html": [
       "<div>\n",
       "<style scoped>\n",
       "    .dataframe tbody tr th:only-of-type {\n",
       "        vertical-align: middle;\n",
       "    }\n",
       "\n",
       "    .dataframe tbody tr th {\n",
       "        vertical-align: top;\n",
       "    }\n",
       "\n",
       "    .dataframe thead th {\n",
       "        text-align: right;\n",
       "    }\n",
       "</style>\n",
       "<table border=\"1\" class=\"dataframe\">\n",
       "  <thead>\n",
       "    <tr style=\"text-align: right;\">\n",
       "      <th></th>\n",
       "      <th>daisy</th>\n",
       "      <th>dandelion</th>\n",
       "      <th>rose</th>\n",
       "      <th>sunflower</th>\n",
       "      <th>tulip</th>\n",
       "    </tr>\n",
       "  </thead>\n",
       "  <tbody>\n",
       "    <tr>\n",
       "      <th>0</th>\n",
       "      <td>1</td>\n",
       "      <td>0</td>\n",
       "      <td>0</td>\n",
       "      <td>0</td>\n",
       "      <td>0</td>\n",
       "    </tr>\n",
       "    <tr>\n",
       "      <th>1</th>\n",
       "      <td>1</td>\n",
       "      <td>0</td>\n",
       "      <td>0</td>\n",
       "      <td>0</td>\n",
       "      <td>0</td>\n",
       "    </tr>\n",
       "    <tr>\n",
       "      <th>2</th>\n",
       "      <td>1</td>\n",
       "      <td>0</td>\n",
       "      <td>0</td>\n",
       "      <td>0</td>\n",
       "      <td>0</td>\n",
       "    </tr>\n",
       "    <tr>\n",
       "      <th>3</th>\n",
       "      <td>1</td>\n",
       "      <td>0</td>\n",
       "      <td>0</td>\n",
       "      <td>0</td>\n",
       "      <td>0</td>\n",
       "    </tr>\n",
       "    <tr>\n",
       "      <th>4</th>\n",
       "      <td>1</td>\n",
       "      <td>0</td>\n",
       "      <td>0</td>\n",
       "      <td>0</td>\n",
       "      <td>0</td>\n",
       "    </tr>\n",
       "    <tr>\n",
       "      <th>...</th>\n",
       "      <td>...</td>\n",
       "      <td>...</td>\n",
       "      <td>...</td>\n",
       "      <td>...</td>\n",
       "      <td>...</td>\n",
       "    </tr>\n",
       "    <tr>\n",
       "      <th>4318</th>\n",
       "      <td>0</td>\n",
       "      <td>0</td>\n",
       "      <td>0</td>\n",
       "      <td>0</td>\n",
       "      <td>1</td>\n",
       "    </tr>\n",
       "    <tr>\n",
       "      <th>4319</th>\n",
       "      <td>0</td>\n",
       "      <td>0</td>\n",
       "      <td>0</td>\n",
       "      <td>0</td>\n",
       "      <td>1</td>\n",
       "    </tr>\n",
       "    <tr>\n",
       "      <th>4320</th>\n",
       "      <td>0</td>\n",
       "      <td>0</td>\n",
       "      <td>0</td>\n",
       "      <td>0</td>\n",
       "      <td>1</td>\n",
       "    </tr>\n",
       "    <tr>\n",
       "      <th>4321</th>\n",
       "      <td>0</td>\n",
       "      <td>0</td>\n",
       "      <td>0</td>\n",
       "      <td>0</td>\n",
       "      <td>1</td>\n",
       "    </tr>\n",
       "    <tr>\n",
       "      <th>4322</th>\n",
       "      <td>0</td>\n",
       "      <td>0</td>\n",
       "      <td>0</td>\n",
       "      <td>0</td>\n",
       "      <td>1</td>\n",
       "    </tr>\n",
       "  </tbody>\n",
       "</table>\n",
       "<p>4323 rows × 5 columns</p>\n",
       "</div>"
      ],
      "text/plain": [
       "      daisy  dandelion  rose  sunflower  tulip\n",
       "0         1          0     0          0      0\n",
       "1         1          0     0          0      0\n",
       "2         1          0     0          0      0\n",
       "3         1          0     0          0      0\n",
       "4         1          0     0          0      0\n",
       "...     ...        ...   ...        ...    ...\n",
       "4318      0          0     0          0      1\n",
       "4319      0          0     0          0      1\n",
       "4320      0          0     0          0      1\n",
       "4321      0          0     0          0      1\n",
       "4322      0          0     0          0      1\n",
       "\n",
       "[4323 rows x 5 columns]"
      ]
     },
     "execution_count": 8,
     "metadata": {},
     "output_type": "execute_result"
    }
   ],
   "source": [
    "targets"
   ]
  },
  {
   "cell_type": "code",
   "execution_count": 9,
   "metadata": {},
   "outputs": [
    {
     "data": {
      "text/plain": [
       "(4323, 28, 28)"
      ]
     },
     "execution_count": 9,
     "metadata": {},
     "output_type": "execute_result"
    }
   ],
   "source": [
    "data.shape"
   ]
  },
  {
   "cell_type": "code",
   "execution_count": 10,
   "metadata": {},
   "outputs": [
    {
     "data": {
      "text/plain": [
       "(4323, 5)"
      ]
     },
     "execution_count": 10,
     "metadata": {},
     "output_type": "execute_result"
    }
   ],
   "source": [
    "targets.shape"
   ]
  },
  {
   "cell_type": "markdown",
   "metadata": {},
   "source": [
    "# Split Data"
   ]
  },
  {
   "cell_type": "code",
   "execution_count": 11,
   "metadata": {},
   "outputs": [],
   "source": [
    "train_data, test_data, train_targets, test_targets = train_test_split(data, targets, test_size = 0.4)"
   ]
  },
  {
   "cell_type": "code",
   "execution_count": 12,
   "metadata": {},
   "outputs": [
    {
     "name": "stdout",
     "output_type": "stream",
     "text": [
      "(2593, 28, 28)\n",
      "(2593, 5)\n",
      "##########\n",
      "(1730, 28, 28)\n",
      "(1730, 5)\n"
     ]
    }
   ],
   "source": [
    "print(train_data.shape)\n",
    "print(train_targets.shape)\n",
    "print('#'*10)\n",
    "print(test_data.shape)\n",
    "print(test_targets.shape)"
   ]
  },
  {
   "cell_type": "code",
   "execution_count": 13,
   "metadata": {},
   "outputs": [
    {
     "data": {
      "text/plain": [
       "array([0.26666668, 0.38039216, 0.31764707, 0.44705883, 0.5176471 ,\n",
       "       0.18431373, 0.14509805, 0.29803923, 0.46666667, 0.50980395,\n",
       "       0.07058824, 0.60784316, 0.11372549, 0.2509804 , 0.1882353 ,\n",
       "       0.49019608, 0.3647059 , 0.4392157 , 0.07843138, 0.15686275,\n",
       "       0.09803922, 0.34901962, 0.3882353 , 0.44705883, 0.3137255 ,\n",
       "       0.33333334, 0.46666667, 0.47843137], dtype=float32)"
      ]
     },
     "execution_count": 13,
     "metadata": {},
     "output_type": "execute_result"
    }
   ],
   "source": [
    "train_data[0][0]"
   ]
  },
  {
   "cell_type": "code",
   "execution_count": 14,
   "metadata": {},
   "outputs": [],
   "source": [
    "train_data = train_data.reshape(2593, 784)\n",
    "test_data = test_data.reshape(1730, 784)"
   ]
  },
  {
   "cell_type": "markdown",
   "metadata": {},
   "source": [
    "# Create Model"
   ]
  },
  {
   "cell_type": "code",
   "execution_count": 15,
   "metadata": {},
   "outputs": [],
   "source": [
    "model = tf.keras.models.Sequential()\n",
    "\n",
    "model.add(tf.keras.layers.Dense(512, activation='relu', input_shape = (28*28,)))\n",
    "\n",
    "model.add(tf.keras.layers.Dense(256, activation='relu'))\n",
    "\n",
    "# model.add(tf.keras.layers.Dense(128, activation='relu'))\n",
    "\n",
    "# model.add(tf.keras.layers.Dense(64, activation='relu'))\n",
    "\n",
    "model.add(tf.keras.layers.Dense(32, activation='relu'))\n",
    "\n",
    "model.add(tf.keras.layers.Dense(5, activation='softmax'))"
   ]
  },
  {
   "cell_type": "markdown",
   "metadata": {},
   "source": [
    "# Compile Model"
   ]
  },
  {
   "cell_type": "code",
   "execution_count": 16,
   "metadata": {},
   "outputs": [],
   "source": [
    "model.compile(optimizer='rmsprop', loss='categorical_crossentropy', metrics=['accuracy'])"
   ]
  },
  {
   "cell_type": "markdown",
   "metadata": {},
   "source": [
    "# Training Model"
   ]
  },
  {
   "cell_type": "code",
   "execution_count": 17,
   "metadata": {},
   "outputs": [
    {
     "name": "stdout",
     "output_type": "stream",
     "text": [
      "Epoch 1/50\n",
      "61/61 [==============================] - 2s 16ms/step - loss: 1.7602 - accuracy: 0.2428 - val_loss: 1.7601 - val_accuracy: 0.2789\n",
      "Epoch 2/50\n",
      "61/61 [==============================] - 1s 12ms/step - loss: 1.5531 - accuracy: 0.2850 - val_loss: 1.5185 - val_accuracy: 0.3313\n",
      "Epoch 3/50\n",
      "61/61 [==============================] - 1s 11ms/step - loss: 1.5084 - accuracy: 0.3249 - val_loss: 1.5293 - val_accuracy: 0.2943\n",
      "Epoch 4/50\n",
      "61/61 [==============================] - 1s 12ms/step - loss: 1.5254 - accuracy: 0.2954 - val_loss: 1.5335 - val_accuracy: 0.3128\n",
      "Epoch 5/50\n",
      "61/61 [==============================] - 1s 11ms/step - loss: 1.4998 - accuracy: 0.3068 - val_loss: 1.5273 - val_accuracy: 0.3097\n",
      "Epoch 6/50\n",
      "61/61 [==============================] - 1s 12ms/step - loss: 1.4978 - accuracy: 0.3229 - val_loss: 1.6881 - val_accuracy: 0.2280\n",
      "Epoch 7/50\n",
      "61/61 [==============================] - 1s 12ms/step - loss: 1.5028 - accuracy: 0.2982 - val_loss: 1.5650 - val_accuracy: 0.3035\n",
      "Epoch 8/50\n",
      "61/61 [==============================] - 1s 12ms/step - loss: 1.4585 - accuracy: 0.3346 - val_loss: 1.5187 - val_accuracy: 0.3282\n",
      "Epoch 9/50\n",
      "61/61 [==============================] - 1s 11ms/step - loss: 1.4421 - accuracy: 0.3595 - val_loss: 1.5208 - val_accuracy: 0.3051\n",
      "Epoch 10/50\n",
      "61/61 [==============================] - 1s 11ms/step - loss: 1.4201 - accuracy: 0.3800 - val_loss: 1.5670 - val_accuracy: 0.2928\n",
      "Epoch 11/50\n",
      "61/61 [==============================] - 1s 12ms/step - loss: 1.4146 - accuracy: 0.3740 - val_loss: 1.5845 - val_accuracy: 0.3097\n",
      "Epoch 12/50\n",
      "61/61 [==============================] - 1s 11ms/step - loss: 1.3719 - accuracy: 0.3895 - val_loss: 1.6152 - val_accuracy: 0.3359\n",
      "Epoch 13/50\n",
      "61/61 [==============================] - 1s 11ms/step - loss: 1.3649 - accuracy: 0.4254 - val_loss: 1.5588 - val_accuracy: 0.3498\n",
      "Epoch 14/50\n",
      "61/61 [==============================] - 1s 11ms/step - loss: 1.3271 - accuracy: 0.4195 - val_loss: 1.5345 - val_accuracy: 0.3421\n",
      "Epoch 15/50\n",
      "61/61 [==============================] - 1s 11ms/step - loss: 1.2967 - accuracy: 0.4500 - val_loss: 1.7029 - val_accuracy: 0.2989\n",
      "Epoch 16/50\n",
      "61/61 [==============================] - 1s 11ms/step - loss: 1.2885 - accuracy: 0.4393 - val_loss: 1.5935 - val_accuracy: 0.3405\n",
      "Epoch 17/50\n",
      "61/61 [==============================] - 1s 12ms/step - loss: 1.2287 - accuracy: 0.4640 - val_loss: 1.9626 - val_accuracy: 0.2897\n",
      "Epoch 18/50\n",
      "61/61 [==============================] - 1s 12ms/step - loss: 1.2270 - accuracy: 0.5019 - val_loss: 1.6156 - val_accuracy: 0.3359\n",
      "Epoch 19/50\n",
      "61/61 [==============================] - 1s 11ms/step - loss: 1.1853 - accuracy: 0.5260 - val_loss: 1.6860 - val_accuracy: 0.3590\n",
      "Epoch 20/50\n",
      "61/61 [==============================] - 1s 11ms/step - loss: 1.1699 - accuracy: 0.5237 - val_loss: 1.6970 - val_accuracy: 0.3143\n",
      "Epoch 21/50\n",
      "61/61 [==============================] - 1s 12ms/step - loss: 1.1208 - accuracy: 0.5292 - val_loss: 1.9857 - val_accuracy: 0.3390\n",
      "Epoch 22/50\n",
      "61/61 [==============================] - 1s 12ms/step - loss: 1.0840 - accuracy: 0.5592 - val_loss: 1.7154 - val_accuracy: 0.3590\n",
      "Epoch 23/50\n",
      "61/61 [==============================] - 1s 11ms/step - loss: 1.0675 - accuracy: 0.5670 - val_loss: 1.7602 - val_accuracy: 0.3436\n",
      "Epoch 24/50\n",
      "61/61 [==============================] - 1s 12ms/step - loss: 1.0257 - accuracy: 0.5819 - val_loss: 1.9132 - val_accuracy: 0.3374\n",
      "Epoch 25/50\n",
      "61/61 [==============================] - 1s 12ms/step - loss: 1.0313 - accuracy: 0.5816 - val_loss: 1.8583 - val_accuracy: 0.3606\n",
      "Epoch 26/50\n",
      "61/61 [==============================] - 1s 12ms/step - loss: 0.9961 - accuracy: 0.5904 - val_loss: 2.5860 - val_accuracy: 0.3190\n",
      "Epoch 27/50\n",
      "61/61 [==============================] - 1s 12ms/step - loss: 0.9841 - accuracy: 0.6042 - val_loss: 2.0755 - val_accuracy: 0.3328\n",
      "Epoch 28/50\n",
      "61/61 [==============================] - 1s 13ms/step - loss: 1.0111 - accuracy: 0.6165 - val_loss: 2.1614 - val_accuracy: 0.3621\n",
      "Epoch 29/50\n",
      "61/61 [==============================] - 1s 12ms/step - loss: 0.9360 - accuracy: 0.6254 - val_loss: 2.7803 - val_accuracy: 0.3051\n",
      "Epoch 30/50\n",
      "61/61 [==============================] - 1s 11ms/step - loss: 0.9838 - accuracy: 0.6253 - val_loss: 2.1849 - val_accuracy: 0.3498\n",
      "Epoch 31/50\n",
      "61/61 [==============================] - 1s 12ms/step - loss: 0.8865 - accuracy: 0.6478 - val_loss: 2.3954 - val_accuracy: 0.3544\n",
      "Epoch 32/50\n",
      "61/61 [==============================] - 1s 13ms/step - loss: 0.8686 - accuracy: 0.6393 - val_loss: 2.2706 - val_accuracy: 0.3498\n",
      "Epoch 33/50\n",
      "61/61 [==============================] - 1s 12ms/step - loss: 0.8674 - accuracy: 0.6776 - val_loss: 2.0673 - val_accuracy: 0.3421\n",
      "Epoch 34/50\n",
      "61/61 [==============================] - 1s 12ms/step - loss: 0.8002 - accuracy: 0.6979 - val_loss: 2.6517 - val_accuracy: 0.3205\n",
      "Epoch 35/50\n",
      "61/61 [==============================] - 1s 13ms/step - loss: 0.8599 - accuracy: 0.6671 - val_loss: 3.4246 - val_accuracy: 0.2820\n",
      "Epoch 36/50\n",
      "61/61 [==============================] - 1s 13ms/step - loss: 0.8516 - accuracy: 0.6838 - val_loss: 2.1937 - val_accuracy: 0.3082\n",
      "Epoch 37/50\n",
      "61/61 [==============================] - 1s 12ms/step - loss: 0.7383 - accuracy: 0.7308 - val_loss: 2.7054 - val_accuracy: 0.3220\n",
      "Epoch 38/50\n",
      "61/61 [==============================] - 1s 11ms/step - loss: 0.8686 - accuracy: 0.6941 - val_loss: 3.0134 - val_accuracy: 0.2804\n",
      "Epoch 39/50\n",
      "61/61 [==============================] - 1s 12ms/step - loss: 0.7819 - accuracy: 0.7102 - val_loss: 4.4190 - val_accuracy: 0.3297\n",
      "Epoch 40/50\n",
      "61/61 [==============================] - 1s 13ms/step - loss: 0.8306 - accuracy: 0.7009 - val_loss: 2.8555 - val_accuracy: 0.3559\n",
      "Epoch 41/50\n",
      "61/61 [==============================] - 1s 11ms/step - loss: 0.7013 - accuracy: 0.7561 - val_loss: 3.1406 - val_accuracy: 0.3174\n",
      "Epoch 42/50\n",
      "61/61 [==============================] - 1s 11ms/step - loss: 0.6564 - accuracy: 0.7534 - val_loss: 3.4323 - val_accuracy: 0.3359\n",
      "Epoch 43/50\n",
      "61/61 [==============================] - 1s 12ms/step - loss: 0.8578 - accuracy: 0.7461 - val_loss: 3.0642 - val_accuracy: 0.3374\n",
      "Epoch 44/50\n",
      "61/61 [==============================] - 1s 11ms/step - loss: 0.7022 - accuracy: 0.7609 - val_loss: 2.7754 - val_accuracy: 0.3436\n",
      "Epoch 45/50\n",
      "61/61 [==============================] - 1s 11ms/step - loss: 0.7002 - accuracy: 0.7636 - val_loss: 2.5846 - val_accuracy: 0.3636\n",
      "Epoch 46/50\n",
      "61/61 [==============================] - 1s 12ms/step - loss: 0.6354 - accuracy: 0.7618 - val_loss: 3.8091 - val_accuracy: 0.2912\n",
      "Epoch 47/50\n",
      "61/61 [==============================] - 1s 12ms/step - loss: 0.6390 - accuracy: 0.7442 - val_loss: 2.8685 - val_accuracy: 0.3559\n",
      "Epoch 48/50\n",
      "61/61 [==============================] - 1s 14ms/step - loss: 0.6858 - accuracy: 0.7486 - val_loss: 2.7545 - val_accuracy: 0.3390\n",
      "Epoch 49/50\n",
      "61/61 [==============================] - 1s 12ms/step - loss: 0.6339 - accuracy: 0.7722 - val_loss: 3.0150 - val_accuracy: 0.3128\n",
      "Epoch 50/50\n",
      "61/61 [==============================] - 1s 12ms/step - loss: 0.6062 - accuracy: 0.7805 - val_loss: 4.1715 - val_accuracy: 0.3513\n"
     ]
    }
   ],
   "source": [
    "history = model.fit(train_data, train_targets, epochs=50, validation_split=0.25)"
   ]
  },
  {
   "cell_type": "code",
   "execution_count": 18,
   "metadata": {},
   "outputs": [
    {
     "data": {
      "image/png": "[encoded data removed]",
      "text/plain": [
       "<Figure size 432x288 with 1 Axes>"
      ]
     },
     "metadata": {
      "needs_background": "light"
     },
     "output_type": "display_data"
    }
   ],
   "source": [
    "import matplotlib.pyplot as plt\n",
    "loss = history.history['accuracy']\n",
    "val_loss = history.history['val_accuracy']\n",
    "epochs = range(1, len(loss) + 1)\n",
    "plt.plot(epochs, loss, 'bo', label='Training accuracy')\n",
    "plt.plot(epochs, val_loss, 'b', label='Validation accuracy')\n",
    "plt.title('Training and validation accuracy')\n",
    "plt.xlabel('Epochs')\n",
    "plt.ylabel('Accuracy')\n",
    "plt.legend()\n",
    "plt.show()"
   ]
  },
  {
   "cell_type": "markdown",
   "metadata": {},
   "source": [
    "# Final Model\n",
    "\n",
    "model starts overfitting after 9 epochs"
   ]
  },
  {
   "cell_type": "code",
   "execution_count": 19,
   "metadata": {},
   "outputs": [
    {
     "name": "stdout",
     "output_type": "stream",
     "text": [
      "Epoch 1/9\n",
      "61/61 [==============================] - 2s 15ms/step - loss: 1.8141 - accuracy: 0.2227 - val_loss: 1.5662 - val_accuracy: 0.3020\n",
      "Epoch 2/9\n",
      "61/61 [==============================] - 1s 12ms/step - loss: 1.5503 - accuracy: 0.2865 - val_loss: 1.5749 - val_accuracy: 0.2635\n",
      "Epoch 3/9\n",
      "61/61 [==============================] - 1s 11ms/step - loss: 1.5352 - accuracy: 0.2963 - val_loss: 1.5130 - val_accuracy: 0.3097\n",
      "Epoch 4/9\n",
      "61/61 [==============================] - 1s 11ms/step - loss: 1.5233 - accuracy: 0.3030 - val_loss: 1.5451 - val_accuracy: 0.3066\n",
      "Epoch 5/9\n",
      "61/61 [==============================] - 1s 11ms/step - loss: 1.5134 - accuracy: 0.3039 - val_loss: 1.5366 - val_accuracy: 0.3344\n",
      "Epoch 6/9\n",
      "61/61 [==============================] - 1s 11ms/step - loss: 1.4793 - accuracy: 0.3265 - val_loss: 1.5767 - val_accuracy: 0.2789\n",
      "Epoch 7/9\n",
      "61/61 [==============================] - 1s 11ms/step - loss: 1.4587 - accuracy: 0.3383 - val_loss: 1.4966 - val_accuracy: 0.3236\n",
      "Epoch 8/9\n",
      "61/61 [==============================] - 1s 11ms/step - loss: 1.4482 - accuracy: 0.3525 - val_loss: 1.5035 - val_accuracy: 0.3220\n",
      "Epoch 9/9\n",
      "61/61 [==============================] - 1s 11ms/step - loss: 1.4251 - accuracy: 0.3905 - val_loss: 1.5125 - val_accuracy: 0.3467\n"
     ]
    }
   ],
   "source": [
    "model = tf.keras.models.Sequential()\n",
    "\n",
    "model.add(tf.keras.layers.Dense(512, activation='relu', input_shape = (28*28,)))\n",
    "\n",
    "model.add(tf.keras.layers.Dense(256, activation='relu'))\n",
    "\n",
    "# model.add(tf.keras.layers.Dense(128, activation='relu'))\n",
    "\n",
    "# model.add(tf.keras.layers.Dense(64, activation='relu'))\n",
    "\n",
    "model.add(tf.keras.layers.Dense(32, activation='relu'))\n",
    "\n",
    "model.add(tf.keras.layers.Dense(5, activation='softmax'))\n",
    "\n",
    "model.compile(optimizer='rmsprop', loss='categorical_crossentropy', metrics=['accuracy'])\n",
    "\n",
    "history = model.fit(train_data, train_targets, epochs=9, validation_split=0.25)"
   ]
  },
  {
   "cell_type": "markdown",
   "metadata": {},
   "source": [
    "# Evaluation"
   ]
  },
  {
   "cell_type": "code",
   "execution_count": 20,
   "metadata": {},
   "outputs": [
    {
     "name": "stdout",
     "output_type": "stream",
     "text": [
      "55/55 [==============================] - 0s 3ms/step - loss: 1.5364 - accuracy: 0.3179\n"
     ]
    },
    {
     "data": {
      "text/plain": [
       "[1.5363718271255493, 0.3179190754890442]"
      ]
     },
     "execution_count": 20,
     "metadata": {},
     "output_type": "execute_result"
    }
   ],
   "source": [
    "model.evaluate(test_data, test_targets)"
   ]
  },
  {
   "cell_type": "markdown",
   "metadata": {},
   "source": [
    "# Prediction"
   ]
  },
  {
   "cell_type": "code",
   "execution_count": 21,
   "metadata": {},
   "outputs": [
    {
     "data": {
      "text/plain": [
       "array([[0.01368054, 0.0660162 , 0.12052592, 0.5031279 , 0.2966495 ],\n",
       "       [0.19349419, 0.22618763, 0.15849036, 0.20361868, 0.21820916],\n",
       "       [0.20937473, 0.20208032, 0.16941252, 0.21380886, 0.20532353],\n",
       "       ...,\n",
       "       [0.19027647, 0.31201297, 0.35022974, 0.01479776, 0.1326831 ],\n",
       "       [0.19116533, 0.3860358 , 0.16517146, 0.04163489, 0.21599254],\n",
       "       [0.20573135, 0.29395077, 0.16271013, 0.13042873, 0.20717902]],\n",
       "      dtype=float32)"
      ]
     },
     "execution_count": 21,
     "metadata": {},
     "output_type": "execute_result"
    }
   ],
   "source": [
    "model.predict(test_data)"
   ]
  }
 ],
 "metadata": {
  "kernelspec": {
   "display_name": "Python 3",
   "language": "python",
   "name": "python3"
  },
  "language_info": {
   "codemirror_mode": {
    "name": "ipython",
    "version": 3
   },
   "file_extension": ".py",
   "mimetype": "text/x-python",
   "name": "python",
   "nbconvert_exporter": "python",
   "pygments_lexer": "ipython3",
   "version": "3.9.0"
  }
 },
 "nbformat": 4,
 "nbformat_minor": 4
}
